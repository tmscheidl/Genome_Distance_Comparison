{
 "cells": [
  {
   "cell_type": "code",
   "execution_count": 6,
   "id": "9d9e1db4",
   "metadata": {},
   "outputs": [
    {
     "name": "stdout",
     "output_type": "stream",
     "text": [
      "Distances between mitochondrial genomes saved in 'genome_distances.txt'.\n"
     ]
    }
   ],
   "source": [
    "import gzip\n",
    "\n",
    "def read_genome_from_rtf(file_path):\n",
    "    genome_sequence = ''\n",
    "    with open(file_path, 'r') as file:\n",
    "        lines = file.readlines()\n",
    "        for line in lines:\n",
    "            if not line.startswith('>'):\n",
    "                genome_sequence += line.strip()\n",
    "    return genome_sequence\n",
    "\n",
    "def gzip_compress(sequence):\n",
    "    with gzip.open('temp.txt.gz', 'wb') as f:\n",
    "        f.write(sequence.encode())\n",
    "    compressed_size = len(open('temp.txt.gz', 'rb').read())\n",
    "    return compressed_size\n",
    "\n",
    "def calculate_distance(genome_A, genome_B):\n",
    "    compressed_A = gzip_compress(genome_A)\n",
    "    compressed_B = gzip_compress(genome_B)\n",
    "    concatenated = genome_A + genome_B\n",
    "    compressed_concatenated = gzip_compress(concatenated)\n",
    "    \n",
    "    distance = 1 - ((compressed_A + compressed_B - compressed_concatenated) / max(compressed_A, compressed_B))\n",
    "    return distance\n",
    "\n",
    "file_names = [\n",
    "    'Canis_lupus.rtf',\n",
    "    'Felis_catus.rtf',\n",
    "    'Mus_Musculus.rtf',\n",
    "    'Sus_scrofa.rtf',\n",
    "    'Ursus_arctos.rtf'\n",
    "]\n",
    "\n",
    "readable_names = {\n",
    "    'Canis_lupus.rtf': 'Canis Lupus',\n",
    "    'Felis_catus.rtf': 'Felis Catus',\n",
    "    'Mus_Musculus.rtf': 'Mus Musculus',\n",
    "    'Sus_scrofa.rtf': 'Sus Scrofa',\n",
    "    'Ursus_arctos.rtf': 'Ursus Arctos'\n",
    "}\n",
    "\n",
    "genome_sequences = [read_genome_from_rtf(file) for file in file_names]\n",
    "\n",
    "distances = {}\n",
    "for i in range(len(genome_sequences)):\n",
    "    for j in range(i + 1, len(genome_sequences)):\n",
    "        distance = calculate_distance(genome_sequences[i], genome_sequences[j])\n",
    "        key = (file_names[i], file_names[j])\n",
    "        distances[key] = distance\n",
    "\n",
    "output_file = 'genome_distances.txt'\n",
    "with open(output_file, 'w') as file:\n",
    "    file.write(\"Distances between mitochondrial genomes were calculated using the gzip-based compression method and the numbers on page 26 of the Beyond Sequence Alignment presentation.:\\n\")\n",
    "    method_written = False\n",
    "    for pair, distance in distances.items():\n",
    "        if not method_written:\n",
    "            file.write(\"\\n\\n\")\n",
    "            method_written = True\n",
    "        \n",
    "        file_name_1, file_name_2 = pair\n",
    "        name_1 = readable_names.get(file_name_1, file_name_1[:-4].replace('_', ' '))\n",
    "        name_2 = readable_names.get(file_name_2, file_name_2[:-4].replace('_', ' '))\n",
    "        file.write(f\"Distances between mitochondrial genomes of {name_1} and {name_2} is {distance:.4f}\\n\")\n",
    "\n",
    "print(f\"Distances between mitochondrial genomes saved in '{output_file}'.\")\n"
   ]
  },
  {
   "cell_type": "code",
   "execution_count": null,
   "id": "8aea9f87",
   "metadata": {},
   "outputs": [],
   "source": []
  }
 ],
 "metadata": {
  "kernelspec": {
   "display_name": "Python 3 (ipykernel)",
   "language": "python",
   "name": "python3"
  },
  "language_info": {
   "codemirror_mode": {
    "name": "ipython",
    "version": 3
   },
   "file_extension": ".py",
   "mimetype": "text/x-python",
   "name": "python",
   "nbconvert_exporter": "python",
   "pygments_lexer": "ipython3",
   "version": "3.9.18"
  }
 },
 "nbformat": 4,
 "nbformat_minor": 5
}
